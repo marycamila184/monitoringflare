{
 "cells": [
  {
   "cell_type": "code",
   "execution_count": 1,
   "metadata": {},
   "outputs": [],
   "source": [
    "import requests\n",
    "import pandas as pd\n",
    "import h5py, os\n",
    "import datetime as dt\n",
    "from datetime import datetime, timedelta"
   ]
  },
  {
   "cell_type": "code",
   "execution_count": 6,
   "metadata": {},
   "outputs": [],
   "source": [
    "## Api responding successfully \n",
    "# auth_token='EDL-U09ebe6a225cd78400a69684c76f52c8bb2df55aa799ff0fece5d033ee3d'\n",
    "\n",
    "auth_token='bWFyeWNhbWlsYWluZm86YldGeWVXTmhiV2xzWVdsdVptOUFaMjFoYVd3dVkyOXQ6MTYzNzg1MDE5Nzo5MTExYTVjNGY3MWQzZmVkYmRlYWQ0YTU3MGI0YTEwM2QxYjNiMTRh'\n",
    "hed = {'Authorization': 'Bearer ' + auth_token, 'X-Requested-With' : 'XMLHttpRequest'}\n",
    "\n",
    "product = 'VNP46A1'\n",
    "data = datetime.strptime('01/8/2019', '%d/%m/%Y')\n",
    "data_end = datetime.strptime('31/8/2019', '%d/%m/%Y')\n",
    "\n",
    "while data.date() <= data_end.date():\n",
    "    year = data.strftime(\"%Y\")\n",
    "    month = data.strftime(\"%m\")\n",
    "    day = data.strftime(\"%d\")\n",
    "    file_dict_VNP46A1 = {}    \n",
    "    converted_date = year+\"-\"+month+\"-\"+day\n",
    "    \n",
    "    url = 'https://ladsweb.modaps.eosdis.nasa.gov/api/v2/content/details?products='+product+'&temporalRanges='+converted_date\n",
    "    response = requests.get(url, headers=hed)\n",
    "    response_json= response.json()      \n",
    "    \n",
    "    for index in range(len(response_json['content'])):\n",
    "        converted_date = year+\"\"+month+\"\"+day\n",
    "        downloadsLink=response_json['content'][index]['downloadsLink']\n",
    "        fileName=response_json['content'][index]['name']\n",
    "        file_dict_VNP46A1[index]=converted_date+';'+downloadsLink+';'+fileName\n",
    "        \n",
    "    df = pd.DataFrame(file_dict_VNP46A1.items(), columns=['Id', 'Details'])\n",
    "    df.to_csv('.\\\\linksimages_nasa\\\\LINKS_'+converted_date+'.csv', index=False)\n",
    "    data = data + timedelta(days=1)    "
   ]
  },
  {
   "cell_type": "code",
   "execution_count": null,
   "metadata": {},
   "outputs": [],
   "source": []
  }
 ],
 "metadata": {
  "kernelspec": {
   "display_name": "Python 3 (ipykernel)",
   "language": "python",
   "name": "python3"
  },
  "language_info": {
   "codemirror_mode": {
    "name": "ipython",
    "version": 3
   },
   "file_extension": ".py",
   "mimetype": "text/x-python",
   "name": "python",
   "nbconvert_exporter": "python",
   "pygments_lexer": "ipython3",
   "version": "3.10.9"
  }
 },
 "nbformat": 4,
 "nbformat_minor": 4
}
