{
 "cells": [
  {
   "cell_type": "code",
   "execution_count": null,
   "metadata": {},
   "outputs": [],
   "source": [
    "import requests\n",
    "from datetime import datetime, timedelta\n",
    "import json\n",
    "import os, zipfile\n",
    "import gzip"
   ]
  },
  {
   "cell_type": "code",
   "execution_count": null,
   "metadata": {},
   "outputs": [],
   "source": [
    "# Retrieve access token\n",
    "params = {    \n",
    "    'client_id': 'eogdata_oidc',\n",
    "    'client_secret': 'SECRET',\n",
    "    'username': 'USERNAME',\n",
    "    'password': 'PASSWORD',\n",
    "    'grant_type': 'password'\n",
    "}\n",
    "token_url = 'https://eogauth.mines.edu/auth/realms/master/protocol/openid-connect/token'\n",
    "response = requests.post(token_url, data = params)\n",
    "access_token_dict = json.loads(response.text)\n",
    "print(access_token_dict)\n",
    "access_token = access_token_dict.get('access_token')\n",
    "access_token"
   ]
  },
  {
   "cell_type": "code",
   "execution_count": null,
   "metadata": {},
   "outputs": [],
   "source": [
    "date_download = datetime.strptime('01/8/2019', '%d/%m/%Y')\n",
    "date_download_end = datetime.strptime('31/8/2019', '%d/%m/%Y')\n",
    "\n",
    "while date_download.date() <= date_download_end.date():\n",
    "    year = date_download.strftime(\"%Y\")\n",
    "    month = date_download.strftime(\"%m\")\n",
    "    day = date_download.strftime(\"%d\")\n",
    "    \n",
    "    converted_date = year+\"\"+month+\"\"+day\n",
    "    \n",
    "    fileUrlNpp = 'https://eogdata.mines.edu/wwwdata/viirs_products/vnf/v30//VNF_npp_d'+converted_date+'_noaa_v30-ez.csv.gz'\n",
    "    print(fileUrlNpp)\n",
    "    \n",
    "    auth = 'Bearer ' + access_token\n",
    "    headers = {'Authorization' : auth}\n",
    "    \n",
    "    ##NPP Satellite\n",
    "    response = requests.get(fileUrlNpp, headers = headers)\n",
    "    output_file = os.path.basename(fileUrlNpp)\n",
    "    with open(output_file,'wb') as f:\n",
    "        f.write(response.content)\n",
    "    \n",
    "    date_download = date_download + timedelta(days=1)"
   ]
  },
  {
   "cell_type": "code",
   "execution_count": null,
   "metadata": {},
   "outputs": [],
   "source": []
  }
 ],
 "metadata": {
  "kernelspec": {
   "display_name": "Python 3 (ipykernel)",
   "language": "python",
   "name": "python3"
  },
  "language_info": {
   "codemirror_mode": {
    "name": "ipython",
    "version": 3
   },
   "file_extension": ".py",
   "mimetype": "text/x-python",
   "name": "python",
   "nbconvert_exporter": "python",
   "pygments_lexer": "ipython3",
   "version": "3.10.9"
  }
 },
 "nbformat": 4,
 "nbformat_minor": 4
}
